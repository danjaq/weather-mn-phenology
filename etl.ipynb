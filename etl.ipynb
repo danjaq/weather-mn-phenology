{
 "cells": [
  {
   "cell_type": "markdown",
   "metadata": {
    "editable": true
   },
   "source": [
    "# Weather Enhanced MN Phenology Dataset\n",
    "Combines phenology and weather data at the county level for the state of Minnesota."
   ]
  },
  {
   "cell_type": "code",
   "execution_count": 1,
   "metadata": {
    "editable": true
   },
   "outputs": [],
   "source": [
    "import pandas as pd\n",
    "from pyspark.sql import SparkSession\n",
    "from pyspark.sql.functions import *\n",
    "from pyspark.sql.types import DoubleType, DateType\n",
    "\n",
    "INPUT_FOLDER = \"data/\"\n",
    "OUTPUT_FOLDER = \"out/\""
   ]
  },
  {
   "cell_type": "markdown",
   "metadata": {
    "editable": true
   },
   "source": [
    "Start spark session"
   ]
  },
  {
   "cell_type": "code",
   "execution_count": 2,
   "metadata": {
    "editable": true
   },
   "outputs": [],
   "source": [
    "spark = SparkSession \\\n",
    "        .builder \\\n",
    "        .getOrCreate()"
   ]
  },
  {
   "cell_type": "markdown",
   "metadata": {
    "editable": true
   },
   "source": [
    "## Phenology and County Codes\n",
    "Done together since FIPS codes aid with phenology data cleanup"
   ]
  },
  {
   "cell_type": "code",
   "execution_count": 3,
   "metadata": {
    "editable": true
   },
   "outputs": [],
   "source": [
    "mnphn_df = spark.read.option(\"header\", True) \\\n",
    "    .csv(INPUT_FOLDER + \"2018.4.6-MNPN-WEBSITE-master-dataset.csv\")\n",
    "fips_df = spark.read.json(INPUT_FOLDER + \"USDA-NRCS_FIPS_Codes.json\", multiLine=True)\n",
    "mnfips_df = fips_df.filter(fips_df.State == \"MN\")"
   ]
  },
  {
   "cell_type": "markdown",
   "metadata": {
    "editable": true
   },
   "source": [
    "### Data clean up for phenology data\n",
    "- remove empty counties\n",
    "- drop duplicates\n",
    "- align multiple spellings\n",
    "- correct abbreviations, etc..."
   ]
  },
  {
   "cell_type": "code",
   "execution_count": 4,
   "metadata": {
    "editable": true
   },
   "outputs": [],
   "source": [
    "mnphn_df = mnphn_df.filter(\"COUNTY is not NULL\").dropDuplicates()"
   ]
  },
  {
   "cell_type": "markdown",
   "metadata": {
    "editable": true
   },
   "source": [
    "#### Data Quality Check\n",
    "Compare phenology data's counties to FIPS codes to determine invalid county names."
   ]
  },
  {
   "cell_type": "code",
   "execution_count": 5,
   "metadata": {
    "editable": true
   },
   "outputs": [
    {
     "name": "stdout",
     "output_type": "stream",
     "text": [
      "+---------------+\n",
      "|         COUNTY|\n",
      "+---------------+\n",
      "|        ASHLAND|\n",
      "|        RAMSEY |\n",
      "|       ST.LOUIS|\n",
      "|             BR|\n",
      "| AITKIN /ITASCA|\n",
      "|      ST. LOUIS|\n",
      "|  AITKIN/ITASCA|\n",
      "|MORRISON COUNTY|\n",
      "+---------------+\n",
      "\n"
     ]
    }
   ],
   "source": [
    "mnphn_df.join(mnfips_df, lower(mnphn_df.COUNTY) == lower(mnfips_df.Name), \"leftanti\") \\\n",
    ".select(\"COUNTY\").distinct().show()"
   ]
  },
  {
   "cell_type": "markdown",
   "metadata": {
    "editable": true
   },
   "source": [
    "County Changes to make\n",
    "- \"ASHLAND\" county is in WI, remove since it's out of scope for this project\n",
    "- \"RAMSEY \" has an extra space to take out\n",
    "- \"ST.LOUIS\" and \"ST. LOUIS\" should be \"ST LOUIS\"\n",
    "- \"BR\" is probably \"Brown\", it's the only \"Br*\" county and there are no counties with \"BR\" as initials\n",
    "- \"MORRISON COUNTY\" should just be \"MORRISON\"\n",
    "- \"AITKIN/ITASCA\" & \"AITKIN /ITASCA\" could be either one, remove for sake of cleanliness"
   ]
  },
  {
   "cell_type": "code",
   "execution_count": 6,
   "metadata": {
    "editable": true
   },
   "outputs": [],
   "source": [
    "mnphn_df = mnphn_df.filter(\"COUNTY not in ('ASHLAND', 'AITKIN /ITASCA', 'AITKIN/ITASCA')\")\n",
    "mnphn_df = mnphn_df.withColumn(\"COUNTY\", when(mnphn_df.COUNTY == \"RAMSEY \",\"RAMSEY\")\n",
    "                    .when(mnphn_df.COUNTY == \"ST.LOUIS\",\"ST LOUIS\")\n",
    "                    .when(mnphn_df.COUNTY == \"ST. LOUIS\",\"ST LOUIS\")\n",
    "                    .when(mnphn_df.COUNTY == \"BR\",\"BROWN\")\n",
    "                    .when(mnphn_df.COUNTY == \"MORRISON COUNTY\",\"MORRISON\")\n",
    "                    .otherwise(mnphn_df.COUNTY))"
   ]
  },
  {
   "cell_type": "markdown",
   "metadata": {
    "editable": true
   },
   "source": [
    "Check to confirm no more mismatches, count should be zero."
   ]
  },
  {
   "cell_type": "code",
   "execution_count": 7,
   "metadata": {
    "editable": true
   },
   "outputs": [
    {
     "data": {
      "text/plain": [
       "0"
      ]
     },
     "execution_count": 7,
     "metadata": {},
     "output_type": "execute_result"
    }
   ],
   "source": [
    "mnphn_df.join(mnfips_df, lower(mnphn_df.COUNTY) == lower(mnfips_df.Name), \"leftanti\") \\\n",
    ".select(\"COUNTY\").distinct().count()"
   ]
  },
  {
   "cell_type": "code",
   "execution_count": 8,
   "metadata": {
    "editable": true
   },
   "outputs": [
    {
     "data": {
      "text/html": [
       "<div>\n",
       "<style scoped>\n",
       "    .dataframe tbody tr th:only-of-type {\n",
       "        vertical-align: middle;\n",
       "    }\n",
       "\n",
       "    .dataframe tbody tr th {\n",
       "        vertical-align: top;\n",
       "    }\n",
       "\n",
       "    .dataframe thead th {\n",
       "        text-align: right;\n",
       "    }\n",
       "</style>\n",
       "<table border=\"1\" class=\"dataframe\">\n",
       "  <thead>\n",
       "    <tr style=\"text-align: right;\">\n",
       "      <th></th>\n",
       "      <th>YEAR</th>\n",
       "      <th>DAY</th>\n",
       "      <th>EVENT</th>\n",
       "      <th>SPECIES (COMMON NAME)</th>\n",
       "      <th>GENUS</th>\n",
       "      <th>SPECIES</th>\n",
       "      <th>COUNTY</th>\n",
       "      <th>LIFEFORM</th>\n",
       "      <th>GROUP</th>\n",
       "      <th>DATASET</th>\n",
       "      <th>DAY OF YEAR</th>\n",
       "      <th>INVASIVE</th>\n",
       "    </tr>\n",
       "  </thead>\n",
       "  <tbody>\n",
       "    <tr>\n",
       "      <th>0</th>\n",
       "      <td>1944</td>\n",
       "      <td>25-May</td>\n",
       "      <td>LAST FLOWER</td>\n",
       "      <td>APPLE</td>\n",
       "      <td>MALUS</td>\n",
       "      <td>DOMESTICA</td>\n",
       "      <td>RAMSEY</td>\n",
       "      <td>PLANTS</td>\n",
       "      <td>WOODY</td>\n",
       "      <td>3</td>\n",
       "      <td>146</td>\n",
       "      <td>None</td>\n",
       "    </tr>\n",
       "    <tr>\n",
       "      <th>1</th>\n",
       "      <td>1946</td>\n",
       "      <td>24-Mar</td>\n",
       "      <td>FLOWERING</td>\n",
       "      <td>AMERICAN ELM</td>\n",
       "      <td>ULMUS</td>\n",
       "      <td>AMERICANA</td>\n",
       "      <td>RAMSEY</td>\n",
       "      <td>PLANTS</td>\n",
       "      <td>WOODY</td>\n",
       "      <td>3</td>\n",
       "      <td>83</td>\n",
       "      <td>None</td>\n",
       "    </tr>\n",
       "    <tr>\n",
       "      <th>2</th>\n",
       "      <td>1947</td>\n",
       "      <td>29-May</td>\n",
       "      <td>FULL FLOWERING</td>\n",
       "      <td>LILAC</td>\n",
       "      <td>SYRINGA</td>\n",
       "      <td>VULGARIS</td>\n",
       "      <td>RAMSEY</td>\n",
       "      <td>PLANTS</td>\n",
       "      <td>WOODY</td>\n",
       "      <td>3</td>\n",
       "      <td>149</td>\n",
       "      <td>None</td>\n",
       "    </tr>\n",
       "    <tr>\n",
       "      <th>3</th>\n",
       "      <td>1958</td>\n",
       "      <td>25-Apr</td>\n",
       "      <td>LAST FLOWER</td>\n",
       "      <td>LEATHERWOOD</td>\n",
       "      <td>DIRCA</td>\n",
       "      <td>PALUSTRIS</td>\n",
       "      <td>HENNEPIN</td>\n",
       "      <td>PLANTS</td>\n",
       "      <td>WOODY</td>\n",
       "      <td>12</td>\n",
       "      <td>115</td>\n",
       "      <td>None</td>\n",
       "    </tr>\n",
       "    <tr>\n",
       "      <th>4</th>\n",
       "      <td>1960</td>\n",
       "      <td>10-Jul</td>\n",
       "      <td>FLOWERING</td>\n",
       "      <td>SILVERLEAF SCURF PEA</td>\n",
       "      <td>PEDIOMELUM</td>\n",
       "      <td>ARGOPHYLLUM</td>\n",
       "      <td>HENNEPIN</td>\n",
       "      <td>PLANTS</td>\n",
       "      <td>FORB</td>\n",
       "      <td>12</td>\n",
       "      <td>192</td>\n",
       "      <td>None</td>\n",
       "    </tr>\n",
       "  </tbody>\n",
       "</table>\n",
       "</div>"
      ],
      "text/plain": [
       "   YEAR     DAY           EVENT SPECIES (COMMON NAME)       GENUS   \\\n",
       "0  1944  25-May     LAST FLOWER                 APPLE        MALUS   \n",
       "1  1946  24-Mar       FLOWERING          AMERICAN ELM        ULMUS   \n",
       "2  1947  29-May  FULL FLOWERING                 LILAC      SYRINGA   \n",
       "3  1958  25-Apr     LAST FLOWER           LEATHERWOOD        DIRCA   \n",
       "4  1960  10-Jul       FLOWERING  SILVERLEAF SCURF PEA  PEDIOMELUM    \n",
       "\n",
       "       SPECIES    COUNTY LIFEFORM  GROUP DATASET DAY OF YEAR INVASIVE  \n",
       "0    DOMESTICA    RAMSEY   PLANTS  WOODY       3         146     None  \n",
       "1    AMERICANA    RAMSEY   PLANTS  WOODY       3          83     None  \n",
       "2     VULGARIS    RAMSEY   PLANTS  WOODY       3         149     None  \n",
       "3    PALUSTRIS  HENNEPIN   PLANTS  WOODY      12         115     None  \n",
       "4  ARGOPHYLLUM  HENNEPIN   PLANTS   FORB      12         192     None  "
      ]
     },
     "execution_count": 8,
     "metadata": {},
     "output_type": "execute_result"
    }
   ],
   "source": [
    "mnphn_df.limit(5).toPandas()"
   ]
  },
  {
   "cell_type": "markdown",
   "metadata": {
    "editable": true
   },
   "source": [
    "## Climate Data\n",
    "Percipitation and temperatures per county and month."
   ]
  },
  {
   "cell_type": "code",
   "execution_count": 9,
   "metadata": {
    "editable": true
   },
   "outputs": [],
   "source": [
    "# Climate tables have a variable amount of spaces as their delimiters\n",
    "# Pandas can handle this where pyspark can't, so use that first\n",
    "climHeader=[\"FIPS-YEAR\",\"JAN\",\"FEB\",\"MAR\",\"APR\",\"MAY\",\"JUN\",\"JUL\",\\\n",
    "        \"AUG\",\"SEP\",\"OCT\",\"NOV\",\"DEC\"]\n",
    "pcpn_pd = pd.read_csv(INPUT_FOLDER + \"climdiv-pcpncy-v1.0.0-20211104\", \\\n",
    "                     sep=\"\\s+\",\\\n",
    "                     names=climHeader)\n",
    "pcpn_df = spark.createDataFrame(pcpn_pd)"
   ]
  },
  {
   "cell_type": "markdown",
   "metadata": {
    "editable": true
   },
   "source": [
    "#### Data Quality Check\n",
    "For perciptation, range of values is listed as 00.00 to 99.99. Check for these, \"-9.99\" indicates no reading, so should be null."
   ]
  },
  {
   "cell_type": "code",
   "execution_count": 10,
   "metadata": {
    "editable": true
   },
   "outputs": [
    {
     "name": "stdout",
     "output_type": "stream",
     "text": [
      "+----------+----+----+-----+----+----+----+----+-----+----+----+-----+-----+\n",
      "| FIPS-YEAR| JAN| FEB|  MAR| APR| MAY| JUN| JUL|  AUG| SEP| OCT|  NOV|  DEC|\n",
      "+----------+----+----+-----+----+----+----+----+-----+----+----+-----+-----+\n",
      "|1001012021|3.19|3.04| 9.03|4.49|3.87|7.26|6.51| 5.32|4.65|5.05|-9.99|-9.99|\n",
      "|1003012021|2.87|4.43| 4.99|9.82| 5.2|9.94|8.81|10.02|7.88|4.81|-9.99|-9.99|\n",
      "|1005012021|5.34|5.03| 7.31|6.71|2.45| 4.7|6.54|  7.7|2.42| 5.2|-9.99|-9.99|\n",
      "|1007012021| 4.2|3.76| 6.34| 4.8|6.67|8.31|8.15| 5.78|3.77|4.99|-9.99|-9.99|\n",
      "|1009012021|3.94|5.45|12.57| 3.5| 5.6|9.59|7.79| 5.93| 4.4|4.77|-9.99|-9.99|\n",
      "+----------+----+----+-----+----+----+----+----+-----+----+----+-----+-----+\n",
      "only showing top 5 rows\n",
      "\n"
     ]
    }
   ],
   "source": [
    "pcpn_df.filter(\"JAN < 0 OR \\\n",
    "            FEB < 0 OR \\\n",
    "            MAR < 0 OR \\\n",
    "            APR < 0 OR \\\n",
    "            MAY < 0 OR \\\n",
    "            JUN < 0 OR \\\n",
    "            JUL < 0 OR \\\n",
    "            AUG < 0 OR \\\n",
    "            SEP < 0 OR \\\n",
    "            OCT < 0 OR \\\n",
    "            NOV < 0 OR \\\n",
    "            DEC < 0\").show(5)"
   ]
  },
  {
   "cell_type": "code",
   "execution_count": 11,
   "metadata": {
    "editable": true
   },
   "outputs": [
    {
     "name": "stdout",
     "output_type": "stream",
     "text": [
      "+---------+---+---+---+---+---+---+---+---+---+---+---+---+\n",
      "|FIPS-YEAR|JAN|FEB|MAR|APR|MAY|JUN|JUL|AUG|SEP|OCT|NOV|DEC|\n",
      "+---------+---+---+---+---+---+---+---+---+---+---+---+---+\n",
      "+---------+---+---+---+---+---+---+---+---+---+---+---+---+\n",
      "\n"
     ]
    }
   ],
   "source": [
    "pcpn_df.filter(\"JAN > 99.99 OR \\\n",
    "            FEB > 99.99 OR \\\n",
    "            MAR > 99.99 OR \\\n",
    "            APR > 99.99 OR \\\n",
    "            MAY > 99.99 OR \\\n",
    "            JUN > 99.99 OR \\\n",
    "            JUL > 99.99 OR \\\n",
    "            AUG > 99.99 OR \\\n",
    "            SEP > 99.99 OR \\\n",
    "            OCT > 99.99 OR \\\n",
    "            NOV > 99.99 OR \\\n",
    "            DEC > 99.99\").show(5)"
   ]
  },
  {
   "cell_type": "markdown",
   "metadata": {
    "editable": true
   },
   "source": [
    "Convert missing readings to null"
   ]
  },
  {
   "cell_type": "code",
   "execution_count": 12,
   "metadata": {
    "editable": true
   },
   "outputs": [],
   "source": [
    "@udf(returnType=DoubleType()) \n",
    "def pcpnMiss2null(obsv):\n",
    "    '''\n",
    "    When percipitation is below 0 it should be null\n",
    "    '''\n",
    "    if obsv < 0.0:\n",
    "        return None\n",
    "    else:\n",
    "        return obsv "
   ]
  },
  {
   "cell_type": "code",
   "execution_count": 13,
   "metadata": {
    "editable": true
   },
   "outputs": [],
   "source": [
    "pcpn_df = pcpn_df.withColumn(\"JAN\", pcpnMiss2null(col(\"JAN\")))\\\n",
    "    .withColumn(\"FEB\", pcpnMiss2null(col(\"FEB\")))\\\n",
    "    .withColumn(\"MAR\", pcpnMiss2null(col(\"MAR\")))\\\n",
    "    .withColumn(\"APR\", pcpnMiss2null(col(\"APR\")))\\\n",
    "    .withColumn(\"MAY\", pcpnMiss2null(col(\"MAY\")))\\\n",
    "    .withColumn(\"JUN\", pcpnMiss2null(col(\"JUN\")))\\\n",
    "    .withColumn(\"JUL\", pcpnMiss2null(col(\"JUL\")))\\\n",
    "    .withColumn(\"AUG\", pcpnMiss2null(col(\"AUG\")))\\\n",
    "    .withColumn(\"SEP\", pcpnMiss2null(col(\"SEP\")))\\\n",
    "    .withColumn(\"OCT\", pcpnMiss2null(col(\"OCT\")))\\\n",
    "    .withColumn(\"NOV\", pcpnMiss2null(col(\"NOV\")))\\\n",
    "    .withColumn(\"DEC\", pcpnMiss2null(col(\"DEC\")))"
   ]
  },
  {
   "cell_type": "code",
   "execution_count": 14,
   "metadata": {
    "editable": true
   },
   "outputs": [
    {
     "name": "stdout",
     "output_type": "stream",
     "text": [
      "root\n",
      " |-- FIPS-YEAR: long (nullable = true)\n",
      " |-- JAN: double (nullable = true)\n",
      " |-- FEB: double (nullable = true)\n",
      " |-- MAR: double (nullable = true)\n",
      " |-- APR: double (nullable = true)\n",
      " |-- MAY: double (nullable = true)\n",
      " |-- JUN: double (nullable = true)\n",
      " |-- JUL: double (nullable = true)\n",
      " |-- AUG: double (nullable = true)\n",
      " |-- SEP: double (nullable = true)\n",
      " |-- OCT: double (nullable = true)\n",
      " |-- NOV: double (nullable = true)\n",
      " |-- DEC: double (nullable = true)\n",
      "\n"
     ]
    }
   ],
   "source": [
    "pcpn_df.printSchema()"
   ]
  },
  {
   "cell_type": "code",
   "execution_count": 15,
   "metadata": {
    "editable": true
   },
   "outputs": [
    {
     "data": {
      "text/html": [
       "<div>\n",
       "<style scoped>\n",
       "    .dataframe tbody tr th:only-of-type {\n",
       "        vertical-align: middle;\n",
       "    }\n",
       "\n",
       "    .dataframe tbody tr th {\n",
       "        vertical-align: top;\n",
       "    }\n",
       "\n",
       "    .dataframe thead th {\n",
       "        text-align: right;\n",
       "    }\n",
       "</style>\n",
       "<table border=\"1\" class=\"dataframe\">\n",
       "  <thead>\n",
       "    <tr style=\"text-align: right;\">\n",
       "      <th></th>\n",
       "      <th>FIPS-YEAR</th>\n",
       "      <th>JAN</th>\n",
       "      <th>FEB</th>\n",
       "      <th>MAR</th>\n",
       "      <th>APR</th>\n",
       "      <th>MAY</th>\n",
       "      <th>JUN</th>\n",
       "      <th>JUL</th>\n",
       "      <th>AUG</th>\n",
       "      <th>SEP</th>\n",
       "      <th>OCT</th>\n",
       "      <th>NOV</th>\n",
       "      <th>DEC</th>\n",
       "    </tr>\n",
       "  </thead>\n",
       "  <tbody>\n",
       "    <tr>\n",
       "      <th>0</th>\n",
       "      <td>1001011895</td>\n",
       "      <td>7.03</td>\n",
       "      <td>2.96</td>\n",
       "      <td>8.36</td>\n",
       "      <td>3.53</td>\n",
       "      <td>3.96</td>\n",
       "      <td>5.40</td>\n",
       "      <td>3.92</td>\n",
       "      <td>3.36</td>\n",
       "      <td>0.73</td>\n",
       "      <td>2.03</td>\n",
       "      <td>1.44</td>\n",
       "      <td>3.66</td>\n",
       "    </tr>\n",
       "    <tr>\n",
       "      <th>1</th>\n",
       "      <td>1001011896</td>\n",
       "      <td>5.86</td>\n",
       "      <td>5.42</td>\n",
       "      <td>5.54</td>\n",
       "      <td>3.98</td>\n",
       "      <td>3.77</td>\n",
       "      <td>6.24</td>\n",
       "      <td>4.38</td>\n",
       "      <td>2.57</td>\n",
       "      <td>0.82</td>\n",
       "      <td>1.66</td>\n",
       "      <td>2.89</td>\n",
       "      <td>1.94</td>\n",
       "    </tr>\n",
       "    <tr>\n",
       "      <th>2</th>\n",
       "      <td>1001011897</td>\n",
       "      <td>3.27</td>\n",
       "      <td>6.63</td>\n",
       "      <td>10.94</td>\n",
       "      <td>4.35</td>\n",
       "      <td>0.81</td>\n",
       "      <td>1.57</td>\n",
       "      <td>3.96</td>\n",
       "      <td>5.02</td>\n",
       "      <td>0.87</td>\n",
       "      <td>0.75</td>\n",
       "      <td>1.84</td>\n",
       "      <td>4.38</td>\n",
       "    </tr>\n",
       "    <tr>\n",
       "      <th>3</th>\n",
       "      <td>1001011898</td>\n",
       "      <td>2.33</td>\n",
       "      <td>2.07</td>\n",
       "      <td>2.60</td>\n",
       "      <td>4.56</td>\n",
       "      <td>0.54</td>\n",
       "      <td>3.13</td>\n",
       "      <td>5.80</td>\n",
       "      <td>6.02</td>\n",
       "      <td>1.51</td>\n",
       "      <td>3.21</td>\n",
       "      <td>6.66</td>\n",
       "      <td>3.91</td>\n",
       "    </tr>\n",
       "    <tr>\n",
       "      <th>4</th>\n",
       "      <td>1001011899</td>\n",
       "      <td>5.80</td>\n",
       "      <td>6.94</td>\n",
       "      <td>3.35</td>\n",
       "      <td>2.22</td>\n",
       "      <td>2.93</td>\n",
       "      <td>2.31</td>\n",
       "      <td>6.80</td>\n",
       "      <td>2.90</td>\n",
       "      <td>0.63</td>\n",
       "      <td>3.02</td>\n",
       "      <td>1.98</td>\n",
       "      <td>5.25</td>\n",
       "    </tr>\n",
       "  </tbody>\n",
       "</table>\n",
       "</div>"
      ],
      "text/plain": [
       "    FIPS-YEAR   JAN   FEB    MAR   APR   MAY   JUN   JUL   AUG   SEP   OCT  \\\n",
       "0  1001011895  7.03  2.96   8.36  3.53  3.96  5.40  3.92  3.36  0.73  2.03   \n",
       "1  1001011896  5.86  5.42   5.54  3.98  3.77  6.24  4.38  2.57  0.82  1.66   \n",
       "2  1001011897  3.27  6.63  10.94  4.35  0.81  1.57  3.96  5.02  0.87  0.75   \n",
       "3  1001011898  2.33  2.07   2.60  4.56  0.54  3.13  5.80  6.02  1.51  3.21   \n",
       "4  1001011899  5.80  6.94   3.35  2.22  2.93  2.31  6.80  2.90  0.63  3.02   \n",
       "\n",
       "    NOV   DEC  \n",
       "0  1.44  3.66  \n",
       "1  2.89  1.94  \n",
       "2  1.84  4.38  \n",
       "3  6.66  3.91  \n",
       "4  1.98  5.25  "
      ]
     },
     "execution_count": 15,
     "metadata": {},
     "output_type": "execute_result"
    }
   ],
   "source": [
    "pcpn_df.limit(5).toPandas()"
   ]
  },
  {
   "cell_type": "markdown",
   "metadata": {
    "editable": true
   },
   "source": [
    "#### Data Quality Check\n",
    "Essentially the same procedure for temperature data, but valid readings are -50.00 to 140.00 and -99.99 is a missing value."
   ]
  },
  {
   "cell_type": "code",
   "execution_count": 16,
   "metadata": {
    "editable": true
   },
   "outputs": [],
   "source": [
    "tmpMax_pd = pd.read_csv(INPUT_FOLDER + \"climdiv-tmaxcy-v1.0.0-20211104\", \\\n",
    "                     sep=\"\\s+\",\\\n",
    "                     names=climHeader)\n",
    "tmpMax_df = spark.createDataFrame(tmpMax_pd)"
   ]
  },
  {
   "cell_type": "code",
   "execution_count": 17,
   "metadata": {
    "editable": true
   },
   "outputs": [],
   "source": [
    "tmpMin_pd = pd.read_csv(INPUT_FOLDER + \"climdiv-tmincy-v1.0.0-20211104\", \\\n",
    "                     sep=\"\\s+\",\\\n",
    "                     names=climHeader)\n",
    "tmpMin_df = spark.createDataFrame(tmpMin_pd)"
   ]
  },
  {
   "cell_type": "code",
   "execution_count": 18,
   "metadata": {
    "editable": true
   },
   "outputs": [],
   "source": [
    "tmpAvg_pd = pd.read_csv(INPUT_FOLDER + \"climdiv-tmpccy-v1.0.0-20211104\", \\\n",
    "                     sep=\"\\s+\",\\\n",
    "                     names=climHeader)\n",
    "tmpAvg_df = spark.createDataFrame(tmpAvg_pd)"
   ]
  },
  {
   "cell_type": "code",
   "execution_count": 19,
   "metadata": {
    "editable": true
   },
   "outputs": [],
   "source": [
    "tmpCheckLow = \"JAN < -50.0 OR \\\n",
    "            FEB < -50.0 OR \\\n",
    "            MAR < -50.0 OR \\\n",
    "            APR < -50.0 OR \\\n",
    "            MAY < -50.0 OR \\\n",
    "            JUN < -50.0 OR \\\n",
    "            JUL < -50.0 OR \\\n",
    "            AUG < -50.0 OR \\\n",
    "            SEP < -50.0 OR \\\n",
    "            OCT < -50.0 OR \\\n",
    "            NOV < -50.0 OR \\\n",
    "            DEC < -50.0\""
   ]
  },
  {
   "cell_type": "code",
   "execution_count": 20,
   "metadata": {
    "editable": true
   },
   "outputs": [],
   "source": [
    "tmpCheckHigh = \"JAN > 140.0 OR \\\n",
    "            FEB > 140.0 OR \\\n",
    "            MAR > 140.0 OR \\\n",
    "            APR > 140.0 OR \\\n",
    "            MAY > 140.0 OR \\\n",
    "            JUN > 140.0 OR \\\n",
    "            JUL > 140.0 OR \\\n",
    "            AUG > 140.0 OR \\\n",
    "            SEP > 140.0 OR \\\n",
    "            OCT > 140.0 OR \\\n",
    "            NOV > 140.0 OR \\\n",
    "            DEC > 140.0\""
   ]
  },
  {
   "cell_type": "code",
   "execution_count": 21,
   "metadata": {
    "editable": true
   },
   "outputs": [
    {
     "name": "stdout",
     "output_type": "stream",
     "text": [
      "+----------+----+----+----+----+----+----+----+----+----+----+-----+-----+\n",
      "| FIPS-YEAR| JAN| FEB| MAR| APR| MAY| JUN| JUL| AUG| SEP| OCT|  NOV|  DEC|\n",
      "+----------+----+----+----+----+----+----+----+----+----+----+-----+-----+\n",
      "|1001272021|58.0|60.8|73.1|76.0|83.0|88.2|89.5|90.8|84.9|78.7|-99.9|-99.9|\n",
      "|1003272021|61.9|61.4|73.5|75.8|82.5|88.1|89.4|90.5|85.5|81.8|-99.9|-99.9|\n",
      "|1005272021|59.0|62.2|73.2|76.0|82.9|87.6|89.1|90.2|85.2|78.6|-99.9|-99.9|\n",
      "|1007272021|55.4|57.8|71.3|73.9|80.7|86.2|88.0|89.2|82.6|77.7|-99.9|-99.9|\n",
      "|1009272021|52.1|54.7|68.2|72.0|78.3|84.4|86.8|87.0|81.4|75.4|-99.9|-99.9|\n",
      "+----------+----+----+----+----+----+----+----+----+----+----+-----+-----+\n",
      "only showing top 5 rows\n",
      "\n"
     ]
    }
   ],
   "source": [
    "tmpMax_df.filter(tmpCheckLow).show(5)"
   ]
  },
  {
   "cell_type": "code",
   "execution_count": 22,
   "metadata": {
    "editable": true
   },
   "outputs": [
    {
     "name": "stdout",
     "output_type": "stream",
     "text": [
      "+---------+---+---+---+---+---+---+---+---+---+---+---+---+\n",
      "|FIPS-YEAR|JAN|FEB|MAR|APR|MAY|JUN|JUL|AUG|SEP|OCT|NOV|DEC|\n",
      "+---------+---+---+---+---+---+---+---+---+---+---+---+---+\n",
      "+---------+---+---+---+---+---+---+---+---+---+---+---+---+\n",
      "\n"
     ]
    }
   ],
   "source": [
    "tmpMax_df.filter(tmpCheckHigh).show(5)"
   ]
  },
  {
   "cell_type": "code",
   "execution_count": 23,
   "metadata": {
    "editable": true
   },
   "outputs": [
    {
     "name": "stdout",
     "output_type": "stream",
     "text": [
      "+----------+----+----+----+----+----+----+----+----+----+----+-----+-----+\n",
      "| FIPS-YEAR| JAN| FEB| MAR| APR| MAY| JUN| JUL| AUG| SEP| OCT|  NOV|  DEC|\n",
      "+----------+----+----+----+----+----+----+----+----+----+----+-----+-----+\n",
      "|1001282021|38.4|37.6|49.4|49.7|59.0|68.0|71.0|72.0|65.3|57.6|-99.9|-99.9|\n",
      "|1003282021|42.5|41.0|53.1|53.5|62.6|71.0|73.4|73.1|68.4|61.2|-99.9|-99.9|\n",
      "|1005282021|38.9|39.6|49.7|50.4|57.4|67.6|69.3|69.9|63.9|57.6|-99.9|-99.9|\n",
      "|1007282021|35.1|34.3|46.3|47.3|56.8|65.5|69.2|70.4|63.7|55.7|-99.9|-99.9|\n",
      "|1009282021|35.1|34.2|47.1|48.3|57.4|65.8|68.8|70.0|63.0|56.0|-99.9|-99.9|\n",
      "+----------+----+----+----+----+----+----+----+----+----+----+-----+-----+\n",
      "only showing top 5 rows\n",
      "\n"
     ]
    }
   ],
   "source": [
    "tmpMin_df.filter(tmpCheckLow).show(5)"
   ]
  },
  {
   "cell_type": "code",
   "execution_count": 24,
   "metadata": {
    "editable": true
   },
   "outputs": [
    {
     "name": "stdout",
     "output_type": "stream",
     "text": [
      "+---------+---+---+---+---+---+---+---+---+---+---+---+---+\n",
      "|FIPS-YEAR|JAN|FEB|MAR|APR|MAY|JUN|JUL|AUG|SEP|OCT|NOV|DEC|\n",
      "+---------+---+---+---+---+---+---+---+---+---+---+---+---+\n",
      "+---------+---+---+---+---+---+---+---+---+---+---+---+---+\n",
      "\n"
     ]
    }
   ],
   "source": [
    "tmpMin_df.filter(tmpCheckHigh).show(5)"
   ]
  },
  {
   "cell_type": "code",
   "execution_count": 25,
   "metadata": {
    "editable": true
   },
   "outputs": [
    {
     "name": "stdout",
     "output_type": "stream",
     "text": [
      "+----------+----+----+----+----+----+----+----+----+----+----+-----+-----+\n",
      "| FIPS-YEAR| JAN| FEB| MAR| APR| MAY| JUN| JUL| AUG| SEP| OCT|  NOV|  DEC|\n",
      "+----------+----+----+----+----+----+----+----+----+----+----+-----+-----+\n",
      "|1001022021|48.2|49.2|61.2|62.8|71.0|78.1|80.2|81.4|75.1|68.2|-99.9|-99.9|\n",
      "|1003022021|52.2|51.2|63.3|64.6|72.6|79.5|81.4|81.8|77.0|71.5|-99.9|-99.9|\n",
      "|1005022021|48.9|50.9|61.4|63.2|70.2|77.6|79.2|80.1|74.6|68.1|-99.9|-99.9|\n",
      "|1007022021|45.2|46.1|58.8|60.6|68.8|75.9|78.6|79.8|73.2|66.7|-99.9|-99.9|\n",
      "|1009022021|43.6|44.4|57.7|60.2|67.8|75.1|77.8|78.5|72.2|65.7|-99.9|-99.9|\n",
      "+----------+----+----+----+----+----+----+----+----+----+----+-----+-----+\n",
      "only showing top 5 rows\n",
      "\n"
     ]
    }
   ],
   "source": [
    "tmpAvg_df.filter(tmpCheckLow).show(5)"
   ]
  },
  {
   "cell_type": "code",
   "execution_count": 26,
   "metadata": {
    "editable": true
   },
   "outputs": [
    {
     "name": "stdout",
     "output_type": "stream",
     "text": [
      "+---------+---+---+---+---+---+---+---+---+---+---+---+---+\n",
      "|FIPS-YEAR|JAN|FEB|MAR|APR|MAY|JUN|JUL|AUG|SEP|OCT|NOV|DEC|\n",
      "+---------+---+---+---+---+---+---+---+---+---+---+---+---+\n",
      "+---------+---+---+---+---+---+---+---+---+---+---+---+---+\n",
      "\n"
     ]
    }
   ],
   "source": [
    "tmpAvg_df.filter(tmpCheckHigh).show(5)"
   ]
  },
  {
   "cell_type": "code",
   "execution_count": 27,
   "metadata": {
    "editable": true
   },
   "outputs": [],
   "source": [
    "@udf(returnType=DoubleType()) \n",
    "def tmpMiss2null(obsv):\n",
    "    '''\n",
    "    When temperature is below -50 it should be null\n",
    "    '''\n",
    "    if obsv < -50.0:\n",
    "        return None\n",
    "    else:\n",
    "        return obsv "
   ]
  },
  {
   "cell_type": "code",
   "execution_count": 28,
   "metadata": {
    "editable": true
   },
   "outputs": [],
   "source": [
    "tmpMax_df = tmpMax_df.withColumn(\"JAN\", tmpMiss2null(col(\"JAN\")))\\\n",
    "    .withColumn(\"FEB\", tmpMiss2null(col(\"FEB\")))\\\n",
    "    .withColumn(\"MAR\", tmpMiss2null(col(\"MAR\")))\\\n",
    "    .withColumn(\"APR\", tmpMiss2null(col(\"APR\")))\\\n",
    "    .withColumn(\"MAY\", tmpMiss2null(col(\"MAY\")))\\\n",
    "    .withColumn(\"JUN\", tmpMiss2null(col(\"JUN\")))\\\n",
    "    .withColumn(\"JUL\", tmpMiss2null(col(\"JUL\")))\\\n",
    "    .withColumn(\"AUG\", tmpMiss2null(col(\"AUG\")))\\\n",
    "    .withColumn(\"SEP\", tmpMiss2null(col(\"SEP\")))\\\n",
    "    .withColumn(\"OCT\", tmpMiss2null(col(\"OCT\")))\\\n",
    "    .withColumn(\"NOV\", tmpMiss2null(col(\"NOV\")))\\\n",
    "    .withColumn(\"DEC\", tmpMiss2null(col(\"DEC\")))"
   ]
  },
  {
   "cell_type": "code",
   "execution_count": 29,
   "metadata": {
    "editable": true
   },
   "outputs": [],
   "source": [
    "tmpMin_df = tmpMin_df.withColumn(\"JAN\", tmpMiss2null(col(\"JAN\")))\\\n",
    "    .withColumn(\"FEB\", tmpMiss2null(col(\"FEB\")))\\\n",
    "    .withColumn(\"MAR\", tmpMiss2null(col(\"MAR\")))\\\n",
    "    .withColumn(\"APR\", tmpMiss2null(col(\"APR\")))\\\n",
    "    .withColumn(\"MAY\", tmpMiss2null(col(\"MAY\")))\\\n",
    "    .withColumn(\"JUN\", tmpMiss2null(col(\"JUN\")))\\\n",
    "    .withColumn(\"JUL\", tmpMiss2null(col(\"JUL\")))\\\n",
    "    .withColumn(\"AUG\", tmpMiss2null(col(\"AUG\")))\\\n",
    "    .withColumn(\"SEP\", tmpMiss2null(col(\"SEP\")))\\\n",
    "    .withColumn(\"OCT\", tmpMiss2null(col(\"OCT\")))\\\n",
    "    .withColumn(\"NOV\", tmpMiss2null(col(\"NOV\")))\\\n",
    "    .withColumn(\"DEC\", tmpMiss2null(col(\"DEC\")))"
   ]
  },
  {
   "cell_type": "code",
   "execution_count": 30,
   "metadata": {
    "editable": true
   },
   "outputs": [],
   "source": [
    "tmpAvg_df = tmpAvg_df.withColumn(\"JAN\", tmpMiss2null(col(\"JAN\")))\\\n",
    "    .withColumn(\"FEB\", tmpMiss2null(col(\"FEB\")))\\\n",
    "    .withColumn(\"MAR\", tmpMiss2null(col(\"MAR\")))\\\n",
    "    .withColumn(\"APR\", tmpMiss2null(col(\"APR\")))\\\n",
    "    .withColumn(\"MAY\", tmpMiss2null(col(\"MAY\")))\\\n",
    "    .withColumn(\"JUN\", tmpMiss2null(col(\"JUN\")))\\\n",
    "    .withColumn(\"JUL\", tmpMiss2null(col(\"JUL\")))\\\n",
    "    .withColumn(\"AUG\", tmpMiss2null(col(\"AUG\")))\\\n",
    "    .withColumn(\"SEP\", tmpMiss2null(col(\"SEP\")))\\\n",
    "    .withColumn(\"OCT\", tmpMiss2null(col(\"OCT\")))\\\n",
    "    .withColumn(\"NOV\", tmpMiss2null(col(\"NOV\")))\\\n",
    "    .withColumn(\"DEC\", tmpMiss2null(col(\"DEC\")))"
   ]
  },
  {
   "cell_type": "code",
   "execution_count": 31,
   "metadata": {
    "editable": true
   },
   "outputs": [
    {
     "name": "stdout",
     "output_type": "stream",
     "text": [
      "root\n",
      " |-- FIPS-YEAR: long (nullable = true)\n",
      " |-- JAN: double (nullable = true)\n",
      " |-- FEB: double (nullable = true)\n",
      " |-- MAR: double (nullable = true)\n",
      " |-- APR: double (nullable = true)\n",
      " |-- MAY: double (nullable = true)\n",
      " |-- JUN: double (nullable = true)\n",
      " |-- JUL: double (nullable = true)\n",
      " |-- AUG: double (nullable = true)\n",
      " |-- SEP: double (nullable = true)\n",
      " |-- OCT: double (nullable = true)\n",
      " |-- NOV: double (nullable = true)\n",
      " |-- DEC: double (nullable = true)\n",
      "\n"
     ]
    }
   ],
   "source": [
    "tmpMax_df.printSchema()"
   ]
  },
  {
   "cell_type": "code",
   "execution_count": 32,
   "metadata": {
    "editable": true
   },
   "outputs": [
    {
     "data": {
      "text/html": [
       "<div>\n",
       "<style scoped>\n",
       "    .dataframe tbody tr th:only-of-type {\n",
       "        vertical-align: middle;\n",
       "    }\n",
       "\n",
       "    .dataframe tbody tr th {\n",
       "        vertical-align: top;\n",
       "    }\n",
       "\n",
       "    .dataframe thead th {\n",
       "        text-align: right;\n",
       "    }\n",
       "</style>\n",
       "<table border=\"1\" class=\"dataframe\">\n",
       "  <thead>\n",
       "    <tr style=\"text-align: right;\">\n",
       "      <th></th>\n",
       "      <th>FIPS-YEAR</th>\n",
       "      <th>JAN</th>\n",
       "      <th>FEB</th>\n",
       "      <th>MAR</th>\n",
       "      <th>APR</th>\n",
       "      <th>MAY</th>\n",
       "      <th>JUN</th>\n",
       "      <th>JUL</th>\n",
       "      <th>AUG</th>\n",
       "      <th>SEP</th>\n",
       "      <th>OCT</th>\n",
       "      <th>NOV</th>\n",
       "      <th>DEC</th>\n",
       "    </tr>\n",
       "  </thead>\n",
       "  <tbody>\n",
       "    <tr>\n",
       "      <th>0</th>\n",
       "      <td>1001271895</td>\n",
       "      <td>53.7</td>\n",
       "      <td>48.7</td>\n",
       "      <td>67.6</td>\n",
       "      <td>76.4</td>\n",
       "      <td>81.9</td>\n",
       "      <td>89.2</td>\n",
       "      <td>91.1</td>\n",
       "      <td>90.4</td>\n",
       "      <td>90.9</td>\n",
       "      <td>76.0</td>\n",
       "      <td>66.6</td>\n",
       "      <td>58.0</td>\n",
       "    </tr>\n",
       "    <tr>\n",
       "      <th>1</th>\n",
       "      <td>1001271896</td>\n",
       "      <td>54.2</td>\n",
       "      <td>60.8</td>\n",
       "      <td>65.3</td>\n",
       "      <td>81.6</td>\n",
       "      <td>88.5</td>\n",
       "      <td>88.2</td>\n",
       "      <td>92.0</td>\n",
       "      <td>94.5</td>\n",
       "      <td>90.8</td>\n",
       "      <td>77.2</td>\n",
       "      <td>69.9</td>\n",
       "      <td>58.7</td>\n",
       "    </tr>\n",
       "    <tr>\n",
       "      <th>2</th>\n",
       "      <td>1001271897</td>\n",
       "      <td>54.2</td>\n",
       "      <td>63.1</td>\n",
       "      <td>71.4</td>\n",
       "      <td>75.1</td>\n",
       "      <td>83.2</td>\n",
       "      <td>95.6</td>\n",
       "      <td>93.3</td>\n",
       "      <td>89.9</td>\n",
       "      <td>88.9</td>\n",
       "      <td>81.3</td>\n",
       "      <td>68.1</td>\n",
       "      <td>58.8</td>\n",
       "    </tr>\n",
       "    <tr>\n",
       "      <th>3</th>\n",
       "      <td>1001271898</td>\n",
       "      <td>60.6</td>\n",
       "      <td>59.1</td>\n",
       "      <td>71.0</td>\n",
       "      <td>72.0</td>\n",
       "      <td>89.5</td>\n",
       "      <td>93.9</td>\n",
       "      <td>91.5</td>\n",
       "      <td>88.8</td>\n",
       "      <td>86.7</td>\n",
       "      <td>73.6</td>\n",
       "      <td>61.7</td>\n",
       "      <td>55.7</td>\n",
       "    </tr>\n",
       "    <tr>\n",
       "      <th>4</th>\n",
       "      <td>1001271899</td>\n",
       "      <td>55.6</td>\n",
       "      <td>53.4</td>\n",
       "      <td>68.8</td>\n",
       "      <td>73.4</td>\n",
       "      <td>89.3</td>\n",
       "      <td>93.7</td>\n",
       "      <td>92.2</td>\n",
       "      <td>92.6</td>\n",
       "      <td>87.5</td>\n",
       "      <td>78.4</td>\n",
       "      <td>68.1</td>\n",
       "      <td>56.6</td>\n",
       "    </tr>\n",
       "  </tbody>\n",
       "</table>\n",
       "</div>"
      ],
      "text/plain": [
       "    FIPS-YEAR   JAN   FEB   MAR   APR   MAY   JUN   JUL   AUG   SEP   OCT  \\\n",
       "0  1001271895  53.7  48.7  67.6  76.4  81.9  89.2  91.1  90.4  90.9  76.0   \n",
       "1  1001271896  54.2  60.8  65.3  81.6  88.5  88.2  92.0  94.5  90.8  77.2   \n",
       "2  1001271897  54.2  63.1  71.4  75.1  83.2  95.6  93.3  89.9  88.9  81.3   \n",
       "3  1001271898  60.6  59.1  71.0  72.0  89.5  93.9  91.5  88.8  86.7  73.6   \n",
       "4  1001271899  55.6  53.4  68.8  73.4  89.3  93.7  92.2  92.6  87.5  78.4   \n",
       "\n",
       "    NOV   DEC  \n",
       "0  66.6  58.0  \n",
       "1  69.9  58.7  \n",
       "2  68.1  58.8  \n",
       "3  61.7  55.7  \n",
       "4  68.1  56.6  "
      ]
     },
     "execution_count": 32,
     "metadata": {},
     "output_type": "execute_result"
    }
   ],
   "source": [
    "tmpMax_df.limit(5).toPandas()"
   ]
  },
  {
   "cell_type": "code",
   "execution_count": 33,
   "metadata": {
    "editable": true
   },
   "outputs": [
    {
     "name": "stdout",
     "output_type": "stream",
     "text": [
      "root\n",
      " |-- FIPS-YEAR: long (nullable = true)\n",
      " |-- JAN: double (nullable = true)\n",
      " |-- FEB: double (nullable = true)\n",
      " |-- MAR: double (nullable = true)\n",
      " |-- APR: double (nullable = true)\n",
      " |-- MAY: double (nullable = true)\n",
      " |-- JUN: double (nullable = true)\n",
      " |-- JUL: double (nullable = true)\n",
      " |-- AUG: double (nullable = true)\n",
      " |-- SEP: double (nullable = true)\n",
      " |-- OCT: double (nullable = true)\n",
      " |-- NOV: double (nullable = true)\n",
      " |-- DEC: double (nullable = true)\n",
      "\n"
     ]
    }
   ],
   "source": [
    "tmpMin_df.printSchema()"
   ]
  },
  {
   "cell_type": "code",
   "execution_count": 34,
   "metadata": {
    "editable": true
   },
   "outputs": [
    {
     "data": {
      "text/html": [
       "<div>\n",
       "<style scoped>\n",
       "    .dataframe tbody tr th:only-of-type {\n",
       "        vertical-align: middle;\n",
       "    }\n",
       "\n",
       "    .dataframe tbody tr th {\n",
       "        vertical-align: top;\n",
       "    }\n",
       "\n",
       "    .dataframe thead th {\n",
       "        text-align: right;\n",
       "    }\n",
       "</style>\n",
       "<table border=\"1\" class=\"dataframe\">\n",
       "  <thead>\n",
       "    <tr style=\"text-align: right;\">\n",
       "      <th></th>\n",
       "      <th>FIPS-YEAR</th>\n",
       "      <th>JAN</th>\n",
       "      <th>FEB</th>\n",
       "      <th>MAR</th>\n",
       "      <th>APR</th>\n",
       "      <th>MAY</th>\n",
       "      <th>JUN</th>\n",
       "      <th>JUL</th>\n",
       "      <th>AUG</th>\n",
       "      <th>SEP</th>\n",
       "      <th>OCT</th>\n",
       "      <th>NOV</th>\n",
       "      <th>DEC</th>\n",
       "    </tr>\n",
       "  </thead>\n",
       "  <tbody>\n",
       "    <tr>\n",
       "      <th>0</th>\n",
       "      <td>1001281895</td>\n",
       "      <td>34.2</td>\n",
       "      <td>27.7</td>\n",
       "      <td>43.4</td>\n",
       "      <td>51.8</td>\n",
       "      <td>59.3</td>\n",
       "      <td>67.4</td>\n",
       "      <td>69.7</td>\n",
       "      <td>70.3</td>\n",
       "      <td>67.1</td>\n",
       "      <td>46.9</td>\n",
       "      <td>42.1</td>\n",
       "      <td>32.5</td>\n",
       "    </tr>\n",
       "    <tr>\n",
       "      <th>1</th>\n",
       "      <td>1001281896</td>\n",
       "      <td>34.4</td>\n",
       "      <td>37.2</td>\n",
       "      <td>42.6</td>\n",
       "      <td>57.0</td>\n",
       "      <td>65.0</td>\n",
       "      <td>67.9</td>\n",
       "      <td>71.4</td>\n",
       "      <td>71.7</td>\n",
       "      <td>65.0</td>\n",
       "      <td>52.2</td>\n",
       "      <td>46.1</td>\n",
       "      <td>35.9</td>\n",
       "    </tr>\n",
       "    <tr>\n",
       "      <th>2</th>\n",
       "      <td>1001281897</td>\n",
       "      <td>33.2</td>\n",
       "      <td>41.5</td>\n",
       "      <td>51.2</td>\n",
       "      <td>50.9</td>\n",
       "      <td>56.8</td>\n",
       "      <td>69.2</td>\n",
       "      <td>71.4</td>\n",
       "      <td>69.3</td>\n",
       "      <td>64.4</td>\n",
       "      <td>53.4</td>\n",
       "      <td>41.7</td>\n",
       "      <td>37.7</td>\n",
       "    </tr>\n",
       "    <tr>\n",
       "      <th>3</th>\n",
       "      <td>1001281898</td>\n",
       "      <td>39.6</td>\n",
       "      <td>34.4</td>\n",
       "      <td>49.1</td>\n",
       "      <td>47.1</td>\n",
       "      <td>60.4</td>\n",
       "      <td>69.1</td>\n",
       "      <td>70.2</td>\n",
       "      <td>69.6</td>\n",
       "      <td>65.7</td>\n",
       "      <td>50.6</td>\n",
       "      <td>38.6</td>\n",
       "      <td>32.7</td>\n",
       "    </tr>\n",
       "    <tr>\n",
       "      <th>4</th>\n",
       "      <td>1001281899</td>\n",
       "      <td>33.6</td>\n",
       "      <td>29.6</td>\n",
       "      <td>44.3</td>\n",
       "      <td>51.3</td>\n",
       "      <td>64.1</td>\n",
       "      <td>68.4</td>\n",
       "      <td>69.9</td>\n",
       "      <td>70.4</td>\n",
       "      <td>61.1</td>\n",
       "      <td>54.8</td>\n",
       "      <td>43.2</td>\n",
       "      <td>34.1</td>\n",
       "    </tr>\n",
       "  </tbody>\n",
       "</table>\n",
       "</div>"
      ],
      "text/plain": [
       "    FIPS-YEAR   JAN   FEB   MAR   APR   MAY   JUN   JUL   AUG   SEP   OCT  \\\n",
       "0  1001281895  34.2  27.7  43.4  51.8  59.3  67.4  69.7  70.3  67.1  46.9   \n",
       "1  1001281896  34.4  37.2  42.6  57.0  65.0  67.9  71.4  71.7  65.0  52.2   \n",
       "2  1001281897  33.2  41.5  51.2  50.9  56.8  69.2  71.4  69.3  64.4  53.4   \n",
       "3  1001281898  39.6  34.4  49.1  47.1  60.4  69.1  70.2  69.6  65.7  50.6   \n",
       "4  1001281899  33.6  29.6  44.3  51.3  64.1  68.4  69.9  70.4  61.1  54.8   \n",
       "\n",
       "    NOV   DEC  \n",
       "0  42.1  32.5  \n",
       "1  46.1  35.9  \n",
       "2  41.7  37.7  \n",
       "3  38.6  32.7  \n",
       "4  43.2  34.1  "
      ]
     },
     "execution_count": 34,
     "metadata": {},
     "output_type": "execute_result"
    }
   ],
   "source": [
    "tmpMin_df.limit(5).toPandas()"
   ]
  },
  {
   "cell_type": "code",
   "execution_count": 35,
   "metadata": {
    "editable": true
   },
   "outputs": [
    {
     "name": "stdout",
     "output_type": "stream",
     "text": [
      "root\n",
      " |-- FIPS-YEAR: long (nullable = true)\n",
      " |-- JAN: double (nullable = true)\n",
      " |-- FEB: double (nullable = true)\n",
      " |-- MAR: double (nullable = true)\n",
      " |-- APR: double (nullable = true)\n",
      " |-- MAY: double (nullable = true)\n",
      " |-- JUN: double (nullable = true)\n",
      " |-- JUL: double (nullable = true)\n",
      " |-- AUG: double (nullable = true)\n",
      " |-- SEP: double (nullable = true)\n",
      " |-- OCT: double (nullable = true)\n",
      " |-- NOV: double (nullable = true)\n",
      " |-- DEC: double (nullable = true)\n",
      "\n"
     ]
    }
   ],
   "source": [
    "tmpAvg_df.printSchema()"
   ]
  },
  {
   "cell_type": "code",
   "execution_count": 36,
   "metadata": {
    "editable": true
   },
   "outputs": [
    {
     "data": {
      "text/html": [
       "<div>\n",
       "<style scoped>\n",
       "    .dataframe tbody tr th:only-of-type {\n",
       "        vertical-align: middle;\n",
       "    }\n",
       "\n",
       "    .dataframe tbody tr th {\n",
       "        vertical-align: top;\n",
       "    }\n",
       "\n",
       "    .dataframe thead th {\n",
       "        text-align: right;\n",
       "    }\n",
       "</style>\n",
       "<table border=\"1\" class=\"dataframe\">\n",
       "  <thead>\n",
       "    <tr style=\"text-align: right;\">\n",
       "      <th></th>\n",
       "      <th>FIPS-YEAR</th>\n",
       "      <th>JAN</th>\n",
       "      <th>FEB</th>\n",
       "      <th>MAR</th>\n",
       "      <th>APR</th>\n",
       "      <th>MAY</th>\n",
       "      <th>JUN</th>\n",
       "      <th>JUL</th>\n",
       "      <th>AUG</th>\n",
       "      <th>SEP</th>\n",
       "      <th>OCT</th>\n",
       "      <th>NOV</th>\n",
       "      <th>DEC</th>\n",
       "    </tr>\n",
       "  </thead>\n",
       "  <tbody>\n",
       "    <tr>\n",
       "      <th>0</th>\n",
       "      <td>1001021895</td>\n",
       "      <td>44.0</td>\n",
       "      <td>38.2</td>\n",
       "      <td>55.5</td>\n",
       "      <td>64.1</td>\n",
       "      <td>70.6</td>\n",
       "      <td>78.3</td>\n",
       "      <td>80.4</td>\n",
       "      <td>80.4</td>\n",
       "      <td>79.0</td>\n",
       "      <td>61.4</td>\n",
       "      <td>54.4</td>\n",
       "      <td>45.3</td>\n",
       "    </tr>\n",
       "    <tr>\n",
       "      <th>1</th>\n",
       "      <td>1001021896</td>\n",
       "      <td>44.3</td>\n",
       "      <td>49.0</td>\n",
       "      <td>54.0</td>\n",
       "      <td>69.3</td>\n",
       "      <td>76.8</td>\n",
       "      <td>78.0</td>\n",
       "      <td>81.7</td>\n",
       "      <td>83.1</td>\n",
       "      <td>77.9</td>\n",
       "      <td>64.7</td>\n",
       "      <td>58.0</td>\n",
       "      <td>47.3</td>\n",
       "    </tr>\n",
       "    <tr>\n",
       "      <th>2</th>\n",
       "      <td>1001021897</td>\n",
       "      <td>43.7</td>\n",
       "      <td>52.3</td>\n",
       "      <td>61.3</td>\n",
       "      <td>63.0</td>\n",
       "      <td>70.0</td>\n",
       "      <td>82.4</td>\n",
       "      <td>82.4</td>\n",
       "      <td>79.6</td>\n",
       "      <td>76.6</td>\n",
       "      <td>67.4</td>\n",
       "      <td>54.9</td>\n",
       "      <td>48.2</td>\n",
       "    </tr>\n",
       "    <tr>\n",
       "      <th>3</th>\n",
       "      <td>1001021898</td>\n",
       "      <td>50.1</td>\n",
       "      <td>46.8</td>\n",
       "      <td>60.1</td>\n",
       "      <td>59.6</td>\n",
       "      <td>75.0</td>\n",
       "      <td>81.5</td>\n",
       "      <td>80.8</td>\n",
       "      <td>79.2</td>\n",
       "      <td>76.2</td>\n",
       "      <td>62.1</td>\n",
       "      <td>50.2</td>\n",
       "      <td>44.2</td>\n",
       "    </tr>\n",
       "    <tr>\n",
       "      <th>4</th>\n",
       "      <td>1001021899</td>\n",
       "      <td>44.6</td>\n",
       "      <td>41.5</td>\n",
       "      <td>56.6</td>\n",
       "      <td>62.3</td>\n",
       "      <td>76.7</td>\n",
       "      <td>81.0</td>\n",
       "      <td>81.0</td>\n",
       "      <td>81.5</td>\n",
       "      <td>74.3</td>\n",
       "      <td>66.6</td>\n",
       "      <td>55.7</td>\n",
       "      <td>45.3</td>\n",
       "    </tr>\n",
       "  </tbody>\n",
       "</table>\n",
       "</div>"
      ],
      "text/plain": [
       "    FIPS-YEAR   JAN   FEB   MAR   APR   MAY   JUN   JUL   AUG   SEP   OCT  \\\n",
       "0  1001021895  44.0  38.2  55.5  64.1  70.6  78.3  80.4  80.4  79.0  61.4   \n",
       "1  1001021896  44.3  49.0  54.0  69.3  76.8  78.0  81.7  83.1  77.9  64.7   \n",
       "2  1001021897  43.7  52.3  61.3  63.0  70.0  82.4  82.4  79.6  76.6  67.4   \n",
       "3  1001021898  50.1  46.8  60.1  59.6  75.0  81.5  80.8  79.2  76.2  62.1   \n",
       "4  1001021899  44.6  41.5  56.6  62.3  76.7  81.0  81.0  81.5  74.3  66.6   \n",
       "\n",
       "    NOV   DEC  \n",
       "0  54.4  45.3  \n",
       "1  58.0  47.3  \n",
       "2  54.9  48.2  \n",
       "3  50.2  44.2  \n",
       "4  55.7  45.3  "
      ]
     },
     "execution_count": 36,
     "metadata": {},
     "output_type": "execute_result"
    }
   ],
   "source": [
    "tmpAvg_df.limit(5).toPandas()"
   ]
  },
  {
   "cell_type": "markdown",
   "metadata": {
    "editable": true
   },
   "source": [
    "## Create Analytic Tables\n",
    "Star schema with _Observations_ as the fact table and the following dimension tables:\n",
    "_Biological_, _County_, _Climate_, _Time_\n",
    "### Observations (fact table)\n",
    "- date\n",
    "- species\n",
    "- FIPS\n",
    "- event"
   ]
  },
  {
   "cell_type": "markdown",
   "metadata": {
    "editable": true
   },
   "source": [
    "Join in the county data to the phenology set, so we can select it back out."
   ]
  },
  {
   "cell_type": "code",
   "execution_count": 37,
   "metadata": {
    "editable": true
   },
   "outputs": [],
   "source": [
    "mnphn_df = mnphn_df.join(mnfips_df, lower(mnphn_df.COUNTY) == lower(mnfips_df.Name))"
   ]
  },
  {
   "cell_type": "code",
   "execution_count": 38,
   "metadata": {
    "editable": true
   },
   "outputs": [
    {
     "name": "stdout",
     "output_type": "stream",
     "text": [
      "root\n",
      " |-- date: date (nullable = true)\n",
      " |-- species: string (nullable = true)\n",
      " |-- county: string (nullable = true)\n",
      " |-- event: string (nullable = true)\n",
      "\n"
     ]
    }
   ],
   "source": [
    "obsv_tbl = mnphn_df.select(from_unixtime(unix_timestamp(\\\n",
    "                concat_ws(\"-\",col(\"YEAR\"),col(\"DAY\")), 'yyyy-dd-MMM')).cast(\"date\").alias(\"date\"), \\\n",
    "                col(\"SPECIES\").alias(\"species\"), \\\n",
    "                col(\"FIPS\").alias(\"county\"), \\\n",
    "                col(\"EVENT\").alias(\"event\"))\n",
    "obsv_tbl.printSchema()"
   ]
  },
  {
   "cell_type": "code",
   "execution_count": 39,
   "metadata": {
    "editable": true
   },
   "outputs": [
    {
     "data": {
      "text/html": [
       "<div>\n",
       "<style scoped>\n",
       "    .dataframe tbody tr th:only-of-type {\n",
       "        vertical-align: middle;\n",
       "    }\n",
       "\n",
       "    .dataframe tbody tr th {\n",
       "        vertical-align: top;\n",
       "    }\n",
       "\n",
       "    .dataframe thead th {\n",
       "        text-align: right;\n",
       "    }\n",
       "</style>\n",
       "<table border=\"1\" class=\"dataframe\">\n",
       "  <thead>\n",
       "    <tr style=\"text-align: right;\">\n",
       "      <th></th>\n",
       "      <th>date</th>\n",
       "      <th>species</th>\n",
       "      <th>county</th>\n",
       "      <th>event</th>\n",
       "    </tr>\n",
       "  </thead>\n",
       "  <tbody>\n",
       "    <tr>\n",
       "      <th>0</th>\n",
       "      <td>1944-05-25</td>\n",
       "      <td>DOMESTICA</td>\n",
       "      <td>27123</td>\n",
       "      <td>LAST FLOWER</td>\n",
       "    </tr>\n",
       "    <tr>\n",
       "      <th>1</th>\n",
       "      <td>1946-03-24</td>\n",
       "      <td>AMERICANA</td>\n",
       "      <td>27123</td>\n",
       "      <td>FLOWERING</td>\n",
       "    </tr>\n",
       "    <tr>\n",
       "      <th>2</th>\n",
       "      <td>1947-05-29</td>\n",
       "      <td>VULGARIS</td>\n",
       "      <td>27123</td>\n",
       "      <td>FULL FLOWERING</td>\n",
       "    </tr>\n",
       "    <tr>\n",
       "      <th>3</th>\n",
       "      <td>1958-04-25</td>\n",
       "      <td>PALUSTRIS</td>\n",
       "      <td>27053</td>\n",
       "      <td>LAST FLOWER</td>\n",
       "    </tr>\n",
       "    <tr>\n",
       "      <th>4</th>\n",
       "      <td>1960-07-10</td>\n",
       "      <td>ARGOPHYLLUM</td>\n",
       "      <td>27053</td>\n",
       "      <td>FLOWERING</td>\n",
       "    </tr>\n",
       "  </tbody>\n",
       "</table>\n",
       "</div>"
      ],
      "text/plain": [
       "         date      species county           event\n",
       "0  1944-05-25    DOMESTICA  27123     LAST FLOWER\n",
       "1  1946-03-24    AMERICANA  27123       FLOWERING\n",
       "2  1947-05-29     VULGARIS  27123  FULL FLOWERING\n",
       "3  1958-04-25    PALUSTRIS  27053     LAST FLOWER\n",
       "4  1960-07-10  ARGOPHYLLUM  27053       FLOWERING"
      ]
     },
     "execution_count": 39,
     "metadata": {},
     "output_type": "execute_result"
    }
   ],
   "source": [
    "obsv_tbl.limit(5).toPandas()"
   ]
  },
  {
   "cell_type": "markdown",
   "metadata": {
    "editable": true
   },
   "source": [
    "### Biological\n",
    "- species\n",
    "- common name\n",
    "- genus\n",
    "- lifeform\n",
    "- group\n",
    "- invasive\n"
   ]
  },
  {
   "cell_type": "code",
   "execution_count": 40,
   "metadata": {
    "editable": true
   },
   "outputs": [
    {
     "name": "stdout",
     "output_type": "stream",
     "text": [
      "root\n",
      " |-- species: string (nullable = true)\n",
      " |-- common_name: string (nullable = true)\n",
      " |-- genus: string (nullable = true)\n",
      " |-- lifeform: string (nullable = true)\n",
      " |-- group: string (nullable = true)\n",
      " |-- mn_invasive: string (nullable = true)\n",
      "\n"
     ]
    }
   ],
   "source": [
    "bio_tbl = mnphn_df.select(\\\n",
    "               col(\"SPECIES\").alias(\"species\"),\n",
    "               col(\"SPECIES (COMMON NAME)\").alias(\"common_name\"),\n",
    "               col(\"GENUS \").alias(\"genus\"),\n",
    "               col(\"LIFEFORM\").alias(\"lifeform\"),\n",
    "               col(\"GROUP\").alias(\"group\"),\n",
    "               col(\"INVASIVE\").alias(\"mn_invasive\")).distinct()\n",
    "bio_tbl.printSchema()"
   ]
  },
  {
   "cell_type": "code",
   "execution_count": 41,
   "metadata": {
    "editable": true
   },
   "outputs": [
    {
     "data": {
      "text/html": [
       "<div>\n",
       "<style scoped>\n",
       "    .dataframe tbody tr th:only-of-type {\n",
       "        vertical-align: middle;\n",
       "    }\n",
       "\n",
       "    .dataframe tbody tr th {\n",
       "        vertical-align: top;\n",
       "    }\n",
       "\n",
       "    .dataframe thead th {\n",
       "        text-align: right;\n",
       "    }\n",
       "</style>\n",
       "<table border=\"1\" class=\"dataframe\">\n",
       "  <thead>\n",
       "    <tr style=\"text-align: right;\">\n",
       "      <th></th>\n",
       "      <th>species</th>\n",
       "      <th>common_name</th>\n",
       "      <th>genus</th>\n",
       "      <th>lifeform</th>\n",
       "      <th>group</th>\n",
       "      <th>mn_invasive</th>\n",
       "    </tr>\n",
       "  </thead>\n",
       "  <tbody>\n",
       "    <tr>\n",
       "      <th>0</th>\n",
       "      <td>SP</td>\n",
       "      <td>BLUE EYED GRASS</td>\n",
       "      <td>SISYRINCHIUM</td>\n",
       "      <td>PLANTS</td>\n",
       "      <td>FORB</td>\n",
       "      <td>None</td>\n",
       "    </tr>\n",
       "    <tr>\n",
       "      <th>1</th>\n",
       "      <td>ALLEGHANIENSIS</td>\n",
       "      <td>YELLOW BIRCH</td>\n",
       "      <td>BETULA</td>\n",
       "      <td>PLANTS</td>\n",
       "      <td>WOODY</td>\n",
       "      <td>None</td>\n",
       "    </tr>\n",
       "    <tr>\n",
       "      <th>2</th>\n",
       "      <td>FULVA</td>\n",
       "      <td>ORANGE DAY-LILY</td>\n",
       "      <td>HEMEROCALLIS</td>\n",
       "      <td>PLANTS</td>\n",
       "      <td>FORB</td>\n",
       "      <td>None</td>\n",
       "    </tr>\n",
       "    <tr>\n",
       "      <th>3</th>\n",
       "      <td>REFLEXA</td>\n",
       "      <td>SPIDERWORT</td>\n",
       "      <td>TRADESCANTIA</td>\n",
       "      <td>PLANTS</td>\n",
       "      <td>FORB</td>\n",
       "      <td>None</td>\n",
       "    </tr>\n",
       "    <tr>\n",
       "      <th>4</th>\n",
       "      <td>CAMPESTRIS</td>\n",
       "      <td>SACHEM</td>\n",
       "      <td>ATALOPEDES</td>\n",
       "      <td>ANIMALS</td>\n",
       "      <td>BUTTERFLIES</td>\n",
       "      <td>None</td>\n",
       "    </tr>\n",
       "  </tbody>\n",
       "</table>\n",
       "</div>"
      ],
      "text/plain": [
       "          species      common_name          genus lifeform        group  \\\n",
       "0              SP  BLUE EYED GRASS   SISYRINCHIUM   PLANTS         FORB   \n",
       "1  ALLEGHANIENSIS     YELLOW BIRCH         BETULA   PLANTS        WOODY   \n",
       "2           FULVA  ORANGE DAY-LILY  HEMEROCALLIS    PLANTS         FORB   \n",
       "3         REFLEXA       SPIDERWORT   TRADESCANTIA   PLANTS         FORB   \n",
       "4      CAMPESTRIS           SACHEM     ATALOPEDES  ANIMALS  BUTTERFLIES   \n",
       "\n",
       "  mn_invasive  \n",
       "0        None  \n",
       "1        None  \n",
       "2        None  \n",
       "3        None  \n",
       "4        None  "
      ]
     },
     "execution_count": 41,
     "metadata": {},
     "output_type": "execute_result"
    }
   ],
   "source": [
    "bio_tbl.limit(5).toPandas()"
   ]
  },
  {
   "cell_type": "markdown",
   "metadata": {
    "editable": true
   },
   "source": [
    "### County\n",
    "- name\n",
    "- FIPS\n",
    "- state"
   ]
  },
  {
   "cell_type": "code",
   "execution_count": 42,
   "metadata": {
    "editable": true
   },
   "outputs": [
    {
     "name": "stdout",
     "output_type": "stream",
     "text": [
      "root\n",
      " |-- name: string (nullable = true)\n",
      " |-- FIPS: string (nullable = true)\n",
      " |-- state: string (nullable = true)\n",
      "\n"
     ]
    }
   ],
   "source": [
    "cnty_tbl = mnfips_df.select(\\\n",
    "                 col(\"Name\").alias(\"name\"),\n",
    "                 col(\"FIPS\"),\n",
    "                 col(\"State\").alias(\"state\"))\n",
    "cnty_tbl.printSchema()"
   ]
  },
  {
   "cell_type": "code",
   "execution_count": 43,
   "metadata": {
    "editable": true
   },
   "outputs": [
    {
     "data": {
      "text/html": [
       "<div>\n",
       "<style scoped>\n",
       "    .dataframe tbody tr th:only-of-type {\n",
       "        vertical-align: middle;\n",
       "    }\n",
       "\n",
       "    .dataframe tbody tr th {\n",
       "        vertical-align: top;\n",
       "    }\n",
       "\n",
       "    .dataframe thead th {\n",
       "        text-align: right;\n",
       "    }\n",
       "</style>\n",
       "<table border=\"1\" class=\"dataframe\">\n",
       "  <thead>\n",
       "    <tr style=\"text-align: right;\">\n",
       "      <th></th>\n",
       "      <th>name</th>\n",
       "      <th>FIPS</th>\n",
       "      <th>state</th>\n",
       "    </tr>\n",
       "  </thead>\n",
       "  <tbody>\n",
       "    <tr>\n",
       "      <th>0</th>\n",
       "      <td>Aitkin</td>\n",
       "      <td>27001</td>\n",
       "      <td>MN</td>\n",
       "    </tr>\n",
       "    <tr>\n",
       "      <th>1</th>\n",
       "      <td>Anoka</td>\n",
       "      <td>27003</td>\n",
       "      <td>MN</td>\n",
       "    </tr>\n",
       "    <tr>\n",
       "      <th>2</th>\n",
       "      <td>Becker</td>\n",
       "      <td>27005</td>\n",
       "      <td>MN</td>\n",
       "    </tr>\n",
       "    <tr>\n",
       "      <th>3</th>\n",
       "      <td>Beltrami</td>\n",
       "      <td>27007</td>\n",
       "      <td>MN</td>\n",
       "    </tr>\n",
       "    <tr>\n",
       "      <th>4</th>\n",
       "      <td>Benton</td>\n",
       "      <td>27009</td>\n",
       "      <td>MN</td>\n",
       "    </tr>\n",
       "  </tbody>\n",
       "</table>\n",
       "</div>"
      ],
      "text/plain": [
       "       name   FIPS state\n",
       "0    Aitkin  27001    MN\n",
       "1     Anoka  27003    MN\n",
       "2    Becker  27005    MN\n",
       "3  Beltrami  27007    MN\n",
       "4    Benton  27009    MN"
      ]
     },
     "execution_count": 43,
     "metadata": {},
     "output_type": "execute_result"
    }
   ],
   "source": [
    "cnty_tbl.limit(5).toPandas()"
   ]
  },
  {
   "cell_type": "markdown",
   "metadata": {
    "editable": true
   },
   "source": [
    "### Climate\n",
    "- FIPS\n",
    "- year\n",
    "- month\n",
    "- Tmin\n",
    "- Tmax\n",
    "- Tavg\n",
    "- Pcpn\n",
    "\n",
    "FIPS gets a little tricky here since NOAA and everyone else uses different state codes. For this MN restricted set, it's easy to go from 21 => 27, but for a national set, more care would be needed.\n",
    "Also, the climate data is monthly data, so there's no day involved."
   ]
  },
  {
   "cell_type": "code",
   "execution_count": 44,
   "metadata": {
    "editable": true
   },
   "outputs": [],
   "source": [
    "# filter to minnesota and change FIPS code\n",
    "pcpn_tbl = pcpn_df.filter(col(\"FIPS-YEAR\").like('21%'))\\\n",
    "    .withColumn(\"FIPS-YEAR\", ((col(\"FIPS-YEAR\").cast('bigint')+6000000000).cast('string')))\n",
    "tmpMin_tbl = tmpMin_df.filter(col(\"FIPS-YEAR\").like('21%'))\\\n",
    "    .withColumn(\"FIPS-YEAR\", ((col(\"FIPS-YEAR\").cast('bigint')+6000000000).cast('string')))\n",
    "tmpMax_tbl = tmpMax_df.filter(col(\"FIPS-YEAR\").like('21%'))\\\n",
    "    .withColumn(\"FIPS-YEAR\", ((col(\"FIPS-YEAR\").cast('bigint')+6000000000).cast('string')))\n",
    "tmpAvg_tbl = tmpAvg_df.filter(col(\"FIPS-YEAR\").like('21%'))\\\n",
    "    .withColumn(\"FIPS-YEAR\", ((col(\"FIPS-YEAR\").cast('bigint')+6000000000).cast('string')))"
   ]
  },
  {
   "cell_type": "code",
   "execution_count": 45,
   "metadata": {
    "editable": true
   },
   "outputs": [],
   "source": [
    "def convertClim(df, dataCol):\n",
    "    '''\n",
    "    Takes a climate data frame with month columns and FIPS-YEAR and converts\n",
    "    them into month rows and splits FIPS and year.\n",
    "    Thanks to Doug on this post for the method: https://stackoverflow.com/a/64130519\n",
    "    '''\n",
    "    df = df.withColumn(\"FIPS\", col(\"FIPS-YEAR\").substr(1,5))\\\n",
    "    .withColumn(\"YEAR\", col(\"FIPS-YEAR\").substr(8,4)).drop(\"FIPS-YEAR\")\n",
    "\n",
    "    df = df.withColumn('j1', array(lit('01'), col('JAN')))\n",
    "    df = df.withColumn('f2', array(lit('02'), col('FEB')))\n",
    "    df = df.withColumn('m3', array(lit('03'), col('MAR')))\n",
    "    df = df.withColumn('a4', array(lit('04'), col('APR')))\n",
    "    df = df.withColumn('m5', array(lit('05'), col('MAY')))\n",
    "    df = df.withColumn('j6', array(lit('06'), col('JUN')))\n",
    "    df = df.withColumn('j7', array(lit('07'), col('JUL')))\n",
    "    df = df.withColumn('a8', array(lit('08'), col('AUG')))\n",
    "    df = df.withColumn('s9', array(lit('09'), col('SEP')))\n",
    "    df = df.withColumn('o10', array(lit('10'), col('OCT')))\n",
    "    df = df.withColumn('n11', array(lit('11'), col('NOV')))\n",
    "    df = df.withColumn('d12', array(lit('12'), col('DEC')))\n",
    "\n",
    "    df = df.withColumn('months', array('j1','f2','m3','a4','m5','j6','j7','a8','s9','o10','n11','d12'))\n",
    "\n",
    "    df = df.withColumn('months', explode('months'))\n",
    "\n",
    "    df = df.withColumn('month', col('months')[0])\n",
    "    df = df.withColumn(dataCol, col('months')[1])\n",
    "    return df.select(\"FIPS\", col(\"YEAR\").alias(\"year\"), \"month\", dataCol)"
   ]
  },
  {
   "cell_type": "code",
   "execution_count": 46,
   "metadata": {
    "editable": true
   },
   "outputs": [],
   "source": [
    "# run the convert function on our four climate tables\n",
    "pcpn_tbl = convertClim(pcpn_tbl, 'pcpn')\n",
    "tmpMin_tbl = convertClim(tmpMin_tbl, 'tmpMin')\n",
    "tmpMax_tbl = convertClim(tmpMax_tbl, 'tmpMax')\n",
    "tmpAvg_tbl = convertClim(tmpAvg_tbl, 'tmpAvg')"
   ]
  },
  {
   "cell_type": "code",
   "execution_count": 47,
   "metadata": {
    "editable": true
   },
   "outputs": [],
   "source": [
    "# Combine all four climate tables\n",
    "clim_tbl = pcpn_tbl.join(tmpMin_tbl, [\"FIPS\", \"year\", \"month\"])\n",
    "clim_tbl = clim_tbl.join(tmpMax_tbl, [\"FIPS\", \"year\", \"month\"])\n",
    "clim_tbl = clim_tbl.join(tmpAvg_tbl, [\"FIPS\", \"year\", \"month\"])"
   ]
  },
  {
   "cell_type": "code",
   "execution_count": 48,
   "metadata": {
    "editable": true
   },
   "outputs": [
    {
     "name": "stdout",
     "output_type": "stream",
     "text": [
      "root\n",
      " |-- FIPS: string (nullable = true)\n",
      " |-- year: integer (nullable = true)\n",
      " |-- month: integer (nullable = true)\n",
      " |-- pcpn: double (nullable = true)\n",
      " |-- tmpMin: double (nullable = true)\n",
      " |-- tmpMax: double (nullable = true)\n",
      " |-- tmpAvg: double (nullable = true)\n",
      "\n"
     ]
    }
   ],
   "source": [
    "#change data types\n",
    "clim_tbl = clim_tbl.withColumn(\"year\", col(\"year\").cast('int'))\\\n",
    "    .withColumn(\"month\", col(\"month\").cast('int'))\\\n",
    "    .withColumn(\"pcpn\", col(\"pcpn\").cast('double'))\\\n",
    "    .withColumn(\"tmpMin\", col(\"tmpMin\").cast('double'))\\\n",
    "    .withColumn(\"tmpMax\", col(\"tmpMax\").cast('double'))\\\n",
    "    .withColumn(\"tmpAvg\", col(\"tmpAvg\").cast('double'))\n",
    "clim_tbl.printSchema()"
   ]
  },
  {
   "cell_type": "markdown",
   "metadata": {
    "editable": true
   },
   "source": [
    "#### Data Quality Check\n",
    "Ensure the joining was succesfull.\n",
    "Row counts for all the tables should be the same and a look at a random entry to spot check validity. "
   ]
  },
  {
   "cell_type": "code",
   "execution_count": 49,
   "metadata": {
    "editable": true
   },
   "outputs": [
    {
     "name": "stdout",
     "output_type": "stream",
     "text": [
      "132588 132588 132588 132588 132588\n"
     ]
    }
   ],
   "source": [
    "print(clim_tbl.count(), tmpAvg_tbl.count(), tmpMin_tbl.count(), tmpMax_tbl.count(),pcpn_tbl.count())"
   ]
  },
  {
   "cell_type": "code",
   "execution_count": 50,
   "metadata": {
    "editable": true
   },
   "outputs": [
    {
     "name": "stdout",
     "output_type": "stream",
     "text": [
      "+-----+----+-----+----+------+------+------+\n",
      "| FIPS|year|month|pcpn|tmpMin|tmpMax|tmpAvg|\n",
      "+-----+----+-----+----+------+------+------+\n",
      "|27053|1982|    1| 1.7|  -9.6|   9.7|   0.1|\n",
      "+-----+----+-----+----+------+------+------+\n",
      "\n",
      "+-----+----+-----+----+\n",
      "| FIPS|year|month|pcpn|\n",
      "+-----+----+-----+----+\n",
      "|27053|1982|   01| 1.7|\n",
      "+-----+----+-----+----+\n",
      "\n",
      "+-----+----+-----+------+\n",
      "| FIPS|year|month|tmpMin|\n",
      "+-----+----+-----+------+\n",
      "|27053|1982|   01|  -9.6|\n",
      "+-----+----+-----+------+\n",
      "\n",
      "+-----+----+-----+------+\n",
      "| FIPS|year|month|tmpMax|\n",
      "+-----+----+-----+------+\n",
      "|27053|1982|   01|   9.7|\n",
      "+-----+----+-----+------+\n",
      "\n",
      "+-----+----+-----+------+\n",
      "| FIPS|year|month|tmpAvg|\n",
      "+-----+----+-----+------+\n",
      "|27053|1982|   01|   0.1|\n",
      "+-----+----+-----+------+\n",
      "\n"
     ]
    }
   ],
   "source": [
    "clim_tbl.where(\"FIPS == 27053 AND year == 1982 AND month == 01\").show()\n",
    "pcpn_tbl.where(\"FIPS == 27053 AND year == 1982 AND month == 01\").show()\n",
    "tmpMin_tbl.where(\"FIPS == 27053 AND year == 1982 AND month == 01\").show()\n",
    "tmpMax_tbl.where(\"FIPS == 27053 AND year == 1982 AND month == 01\").show()\n",
    "tmpAvg_tbl.where(\"FIPS == 27053 AND year == 1982 AND month == 01\").show()"
   ]
  },
  {
   "cell_type": "markdown",
   "metadata": {
    "editable": true
   },
   "source": [
    "### Time Table\n",
    "The most specific time item is date from observations, so go from there.\n",
    "- date\n",
    "- day\n",
    "- week\n",
    "- month\n",
    "- year\n",
    "- weekday"
   ]
  },
  {
   "cell_type": "code",
   "execution_count": 51,
   "metadata": {
    "editable": true
   },
   "outputs": [
    {
     "name": "stdout",
     "output_type": "stream",
     "text": [
      "root\n",
      " |-- date: date (nullable = true)\n",
      " |-- day: integer (nullable = true)\n",
      " |-- week: integer (nullable = true)\n",
      " |-- month: integer (nullable = true)\n",
      " |-- year: integer (nullable = true)\n",
      " |-- weekday: string (nullable = true)\n",
      "\n"
     ]
    }
   ],
   "source": [
    "# create datetime column from original timestamp column\n",
    "time_tbl = obsv_tbl.select('date').distinct()\n",
    "\n",
    "# extract columns to create time table\n",
    "time_tbl = time_tbl.select(\n",
    "    col(\"date\"),\n",
    "    dayofmonth(col(\"date\")).alias(\"day\"),\n",
    "    weekofyear(col(\"date\")).alias(\"week\"),\n",
    "    month(col(\"date\")).alias(\"month\"),\n",
    "    year(col(\"date\")).alias(\"year\"),\n",
    "    date_format(col(\"date\"), \"E\").alias(\"weekday\")\n",
    "    )\n",
    "    \n",
    "time_tbl.printSchema()"
   ]
  },
  {
   "cell_type": "code",
   "execution_count": 52,
   "metadata": {
    "editable": true
   },
   "outputs": [
    {
     "data": {
      "text/html": [
       "<div>\n",
       "<style scoped>\n",
       "    .dataframe tbody tr th:only-of-type {\n",
       "        vertical-align: middle;\n",
       "    }\n",
       "\n",
       "    .dataframe tbody tr th {\n",
       "        vertical-align: top;\n",
       "    }\n",
       "\n",
       "    .dataframe thead th {\n",
       "        text-align: right;\n",
       "    }\n",
       "</style>\n",
       "<table border=\"1\" class=\"dataframe\">\n",
       "  <thead>\n",
       "    <tr style=\"text-align: right;\">\n",
       "      <th></th>\n",
       "      <th>date</th>\n",
       "      <th>day</th>\n",
       "      <th>week</th>\n",
       "      <th>month</th>\n",
       "      <th>year</th>\n",
       "      <th>weekday</th>\n",
       "    </tr>\n",
       "  </thead>\n",
       "  <tbody>\n",
       "    <tr>\n",
       "      <th>0</th>\n",
       "      <td>2005-06-06</td>\n",
       "      <td>6</td>\n",
       "      <td>23</td>\n",
       "      <td>6</td>\n",
       "      <td>2005</td>\n",
       "      <td>Mon</td>\n",
       "    </tr>\n",
       "    <tr>\n",
       "      <th>1</th>\n",
       "      <td>2006-05-17</td>\n",
       "      <td>17</td>\n",
       "      <td>20</td>\n",
       "      <td>5</td>\n",
       "      <td>2006</td>\n",
       "      <td>Wed</td>\n",
       "    </tr>\n",
       "    <tr>\n",
       "      <th>2</th>\n",
       "      <td>1987-09-15</td>\n",
       "      <td>15</td>\n",
       "      <td>38</td>\n",
       "      <td>9</td>\n",
       "      <td>1987</td>\n",
       "      <td>Tue</td>\n",
       "    </tr>\n",
       "    <tr>\n",
       "      <th>3</th>\n",
       "      <td>2009-07-25</td>\n",
       "      <td>25</td>\n",
       "      <td>30</td>\n",
       "      <td>7</td>\n",
       "      <td>2009</td>\n",
       "      <td>Sat</td>\n",
       "    </tr>\n",
       "    <tr>\n",
       "      <th>4</th>\n",
       "      <td>1991-03-26</td>\n",
       "      <td>26</td>\n",
       "      <td>13</td>\n",
       "      <td>3</td>\n",
       "      <td>1991</td>\n",
       "      <td>Tue</td>\n",
       "    </tr>\n",
       "  </tbody>\n",
       "</table>\n",
       "</div>"
      ],
      "text/plain": [
       "         date  day  week  month  year weekday\n",
       "0  2005-06-06    6    23      6  2005     Mon\n",
       "1  2006-05-17   17    20      5  2006     Wed\n",
       "2  1987-09-15   15    38      9  1987     Tue\n",
       "3  2009-07-25   25    30      7  2009     Sat\n",
       "4  1991-03-26   26    13      3  1991     Tue"
      ]
     },
     "execution_count": 52,
     "metadata": {},
     "output_type": "execute_result"
    }
   ],
   "source": [
    "time_tbl.limit(5).toPandas()"
   ]
  },
  {
   "cell_type": "markdown",
   "metadata": {
    "editable": true
   },
   "source": [
    "## Write out Analysis Tables to Parquet files\n",
    "This will fail on the Udacity workspace due to disk space constraints."
   ]
  },
  {
   "cell_type": "code",
   "execution_count": 54,
   "metadata": {
    "editable": true
   },
   "outputs": [],
   "source": [
    "obsv_tbl.write.partitionBy(\"date\", \"county\").mode(\"overwrite\")\\\n",
    "    .parquet(OUTPUT_FOLDER + \"obsv.parquet\")\n",
    "bio_tbl.write.mode(\"overwrite\")\\\n",
    "    .parquet(OUTPUT_FOLDER + \"bio.parquet\")\n",
    "cnty_tbl.write.partitionBy(\"state\").mode(\"overwrite\")\\\n",
    "    .parquet(OUTPUT_FOLDER + \"cnty.parquet\")\n",
    "clim_tbl.write.partitionBy(\"year\", \"FIPS\").mode(\"overwrite\")\\\n",
    "    .parquet(OUTPUT_FOLDER + \"clim.parquet\")\n",
    "time_tbl.write.partitionBy(\"year\").mode(\"overwrite\")\\\n",
    "    .parquet(OUTPUT_FOLDER + \"time.parquet\")"
   ]
  }
 ],
 "metadata": {
  "kernelspec": {
   "display_name": "Python 3",
   "language": "python",
   "name": "python3"
  },
  "language_info": {
   "codemirror_mode": {
    "name": "ipython",
    "version": 3
   },
   "file_extension": ".py",
   "mimetype": "text/x-python",
   "name": "python",
   "nbconvert_exporter": "python",
   "pygments_lexer": "ipython3",
   "version": "3.6.3"
  }
 },
 "nbformat": 4,
 "nbformat_minor": 4
}
